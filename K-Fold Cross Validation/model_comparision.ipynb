{
 "cells": [
  {
   "cell_type": "markdown",
   "id": "7b1dceef",
   "metadata": {},
   "source": [
    "Compairing Performance for different model for iris dataset of sklearn"
   ]
  },
  {
   "cell_type": "code",
   "execution_count": 1,
   "id": "36b68409",
   "metadata": {},
   "outputs": [],
   "source": [
    "from sklearn.datasets import load_iris\n",
    "from sklearn.model_selection import cross_val_score\n",
    "from sklearn.linear_model import LogisticRegression\n",
    "from sklearn.tree import DecisionTreeClassifier\n",
    "from sklearn.svm import SVC\n",
    "from sklearn.ensemble import RandomForestClassifier\n",
    "import numpy as np"
   ]
  },
  {
   "cell_type": "code",
   "execution_count": 2,
   "id": "23505ac7",
   "metadata": {},
   "outputs": [],
   "source": [
    "iris  = load_iris()\n",
    "X = iris.data\n",
    "y = iris.target"
   ]
  },
  {
   "cell_type": "markdown",
   "id": "c1eedc05",
   "metadata": {},
   "source": [
    "Applying K-Fold Cross Validation on Logistic Regression"
   ]
  },
  {
   "cell_type": "code",
   "execution_count": 6,
   "id": "b499a4db",
   "metadata": {},
   "outputs": [
    {
     "name": "stderr",
     "output_type": "stream",
     "text": [
      "C:\\Users\\dhruv\\AppData\\Roaming\\Python\\Python313\\site-packages\\sklearn\\linear_model\\_logistic.py:465: ConvergenceWarning: lbfgs failed to converge (status=1):\n",
      "STOP: TOTAL NO. OF ITERATIONS REACHED LIMIT.\n",
      "\n",
      "Increase the number of iterations (max_iter) or scale the data as shown in:\n",
      "    https://scikit-learn.org/stable/modules/preprocessing.html\n",
      "Please also refer to the documentation for alternative solver options:\n",
      "    https://scikit-learn.org/stable/modules/linear_model.html#logistic-regression\n",
      "  n_iter_i = _check_optimize_result(\n"
     ]
    }
   ],
   "source": [
    "lR_scores = cross_val_score(LogisticRegression(),X,y)"
   ]
  },
  {
   "cell_type": "code",
   "execution_count": 7,
   "id": "48c1037a",
   "metadata": {},
   "outputs": [
    {
     "data": {
      "text/plain": [
       "np.float64(0.9733333333333334)"
      ]
     },
     "execution_count": 7,
     "metadata": {},
     "output_type": "execute_result"
    }
   ],
   "source": [
    "np.average(lR_scores)"
   ]
  },
  {
   "cell_type": "markdown",
   "id": "7bd83e1d",
   "metadata": {},
   "source": [
    "Applying K-Fold Cross Validation on SVM"
   ]
  },
  {
   "cell_type": "code",
   "execution_count": 8,
   "id": "4e0eb16b",
   "metadata": {},
   "outputs": [
    {
     "data": {
      "text/plain": [
       "np.float64(0.9666666666666666)"
      ]
     },
     "execution_count": 8,
     "metadata": {},
     "output_type": "execute_result"
    }
   ],
   "source": [
    "sv_scores = cross_val_score(SVC(), X, y)\n",
    "\n",
    "np.average(sv_scores)"
   ]
  },
  {
   "cell_type": "markdown",
   "id": "ffdbba85",
   "metadata": {},
   "source": [
    "Applying K-Fold Cross Validation on Random forest with different estimators"
   ]
  },
  {
   "cell_type": "code",
   "execution_count": 9,
   "id": "786e4bbd",
   "metadata": {},
   "outputs": [
    {
     "name": "stdout",
     "output_type": "stream",
     "text": [
      "RF with 1 estimator: 0.96\n",
      "RF with 10 estimators: 0.9533333333333334\n",
      "RF with 50 estimators: 0.9666666666666668\n"
     ]
    }
   ],
   "source": [
    "rf1_scores = cross_val_score(RandomForestClassifier(n_estimators=1), X, y)\n",
    "rf10_scores = cross_val_score(RandomForestClassifier(n_estimators=10), X, y)\n",
    "rf50_scores = cross_val_score(RandomForestClassifier(n_estimators=50), X, y)\n",
    "\n",
    "print(\"RF with 1 estimator:\", np.average(rf1_scores))\n",
    "print(\"RF with 10 estimators:\", np.average(rf10_scores))\n",
    "print(\"RF with 50 estimators:\", np.average(rf50_scores))"
   ]
  },
  {
   "cell_type": "markdown",
   "id": "0c8392ce",
   "metadata": {},
   "source": [
    "Applying K-Fold Cross Validation on Decison Tree"
   ]
  },
  {
   "cell_type": "code",
   "execution_count": 10,
   "id": "e0030cbd",
   "metadata": {},
   "outputs": [
    {
     "data": {
      "text/plain": [
       "np.float64(0.9666666666666668)"
      ]
     },
     "execution_count": 10,
     "metadata": {},
     "output_type": "execute_result"
    }
   ],
   "source": [
    "dt_scores = cross_val_score(DecisionTreeClassifier(), X, y)\n",
    "\n",
    "np.average(dt_scores)"
   ]
  },
  {
   "cell_type": "markdown",
   "id": "8409d81f",
   "metadata": {},
   "source": [
    "So the scores we get are : "
   ]
  },
  {
   "cell_type": "code",
   "execution_count": 12,
   "id": "d35a63d6",
   "metadata": {},
   "outputs": [
    {
     "name": "stdout",
     "output_type": "stream",
     "text": [
      "Logistic Regression: 0.9733333333333334\n",
      "SVM: 0.9666666666666666\n",
      "Decision Tree: 0.9666666666666668\n",
      "Random Forest (1 estimators): 0.96\n",
      "Random Forest (10 estimators): 0.9533333333333334\n",
      "Random Forest (50 estimators): 0.9666666666666668\n"
     ]
    }
   ],
   "source": [
    "print(\"Logistic Regression:\", np.average(lR_scores))\n",
    "print(\"SVM:\", np.average(sv_scores))\n",
    "print(\"Decision Tree:\", np.average(dt_scores))\n",
    "print(\"Random Forest (1 estimators):\", np.average(rf1_scores))\n",
    "print(\"Random Forest (10 estimators):\", np.average(rf10_scores))\n",
    "print(\"Random Forest (50 estimators):\", np.average(rf50_scores))"
   ]
  },
  {
   "cell_type": "markdown",
   "id": "3b8f0887",
   "metadata": {},
   "source": [
    "From above we can conclude for iris dataset, Logistic Regression perform the best."
   ]
  }
 ],
 "metadata": {
  "kernelspec": {
   "display_name": "Python 3",
   "language": "python",
   "name": "python3"
  },
  "language_info": {
   "codemirror_mode": {
    "name": "ipython",
    "version": 3
   },
   "file_extension": ".py",
   "mimetype": "text/x-python",
   "name": "python",
   "nbconvert_exporter": "python",
   "pygments_lexer": "ipython3",
   "version": "3.13.1"
  }
 },
 "nbformat": 4,
 "nbformat_minor": 5
}
